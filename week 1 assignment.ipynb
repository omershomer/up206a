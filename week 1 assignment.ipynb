{
 "cells": [
  {
   "cell_type": "code",
   "execution_count": 1,
   "id": "6908810e-e11c-4423-b592-23cff6b21157",
   "metadata": {},
   "outputs": [
    {
     "name": "stderr",
     "output_type": "stream",
     "text": [
      "/opt/conda/lib/python3.9/site-packages/geopandas/_compat.py:106: UserWarning: The Shapely GEOS version (3.9.1-CAPI-1.14.2) is incompatible with the GEOS version PyGEOS was compiled with (3.10.1-CAPI-1.16.0). Conversions between both will be slow.\n",
      "  warnings.warn(\n"
     ]
    }
   ],
   "source": [
    "#Importing geopandas into my notebook so I can use it later. \n",
    "import geopandas as gpd"
   ]
  },
  {
   "cell_type": "code",
   "execution_count": 7,
   "id": "acd3af03-4304-40d4-a4a9-083e28b51e88",
   "metadata": {},
   "outputs": [],
   "source": [
    "#Bringing in LA County's bikeway data abd labeling it \"lacbikeways\"\n",
    "lacbikeways=gpd.read_file('geo_export_0700d6c4-1565-423c-a648-5e8081bc1580.shp')"
   ]
  },
  {
   "cell_type": "code",
   "execution_count": 9,
   "id": "d1af7995-41a9-4979-ac3e-85cfc66670f0",
   "metadata": {},
   "outputs": [
    {
     "data": {
      "text/plain": [
       "geopandas.geodataframe.GeoDataFrame"
      ]
     },
     "execution_count": 9,
     "metadata": {},
     "output_type": "execute_result"
    }
   ],
   "source": [
    "#Confirming that my file was imported, and just checking the file type. \n",
    "type(lacbikeways)"
   ]
  },
  {
   "cell_type": "code",
   "execution_count": 11,
   "id": "fef17e71-36c4-4654-93a3-32ad373ca095",
   "metadata": {},
   "outputs": [
    {
     "data": {
      "text/html": [
       "<div>\n",
       "<style scoped>\n",
       "    .dataframe tbody tr th:only-of-type {\n",
       "        vertical-align: middle;\n",
       "    }\n",
       "\n",
       "    .dataframe tbody tr th {\n",
       "        vertical-align: top;\n",
       "    }\n",
       "\n",
       "    .dataframe thead th {\n",
       "        text-align: right;\n",
       "    }\n",
       "</style>\n",
       "<table border=\"1\" class=\"dataframe\">\n",
       "  <thead>\n",
       "    <tr style=\"text-align: right;\">\n",
       "      <th></th>\n",
       "      <th>acoe</th>\n",
       "      <th>atsproject</th>\n",
       "      <th>bl_buffere</th>\n",
       "      <th>bl_comment</th>\n",
       "      <th>bl_width</th>\n",
       "      <th>bmp_segmen</th>\n",
       "      <th>city</th>\n",
       "      <th>class</th>\n",
       "      <th>cog</th>\n",
       "      <th>community</th>\n",
       "      <th>...</th>\n",
       "      <th>street</th>\n",
       "      <th>swmd_con_1</th>\n",
       "      <th>swmd_con_2</th>\n",
       "      <th>swmd_conta</th>\n",
       "      <th>to</th>\n",
       "      <th>updated_un</th>\n",
       "      <th>w_buffer</th>\n",
       "      <th>w_parking</th>\n",
       "      <th>zip_code</th>\n",
       "      <th>geometry</th>\n",
       "    </tr>\n",
       "  </thead>\n",
       "  <tbody>\n",
       "    <tr>\n",
       "      <th>0</th>\n",
       "      <td>None</td>\n",
       "      <td>2307.0</td>\n",
       "      <td>No</td>\n",
       "      <td>The bike lane width varies along Colima Rd; ar...</td>\n",
       "      <td>5.0</td>\n",
       "      <td>None</td>\n",
       "      <td>None</td>\n",
       "      <td>2.0</td>\n",
       "      <td>None</td>\n",
       "      <td>None</td>\n",
       "      <td>...</td>\n",
       "      <td>Colima Rd</td>\n",
       "      <td>None</td>\n",
       "      <td>None</td>\n",
       "      <td>None</td>\n",
       "      <td>Stimson Ave</td>\n",
       "      <td>None</td>\n",
       "      <td>0.0</td>\n",
       "      <td>0.0</td>\n",
       "      <td>90631</td>\n",
       "      <td>LINESTRING (-117.95958 33.98285, -117.96038 33...</td>\n",
       "    </tr>\n",
       "    <tr>\n",
       "      <th>1</th>\n",
       "      <td>None</td>\n",
       "      <td>2308.0</td>\n",
       "      <td>No</td>\n",
       "      <td>The bike lane width varies along Colima Rd; ar...</td>\n",
       "      <td>5.0</td>\n",
       "      <td>None</td>\n",
       "      <td>None</td>\n",
       "      <td>2.0</td>\n",
       "      <td>None</td>\n",
       "      <td>None</td>\n",
       "      <td>...</td>\n",
       "      <td>Colima Rd</td>\n",
       "      <td>None</td>\n",
       "      <td>None</td>\n",
       "      <td>None</td>\n",
       "      <td>Larkvane Rd</td>\n",
       "      <td>None</td>\n",
       "      <td>0.0</td>\n",
       "      <td>0.0</td>\n",
       "      <td>None</td>\n",
       "      <td>LINESTRING (-117.94532 33.99008, -117.94516 33...</td>\n",
       "    </tr>\n",
       "    <tr>\n",
       "      <th>2</th>\n",
       "      <td>None</td>\n",
       "      <td>2244.0</td>\n",
       "      <td>None</td>\n",
       "      <td>None</td>\n",
       "      <td>0.0</td>\n",
       "      <td>None</td>\n",
       "      <td>None</td>\n",
       "      <td>1.0</td>\n",
       "      <td>San Fernando Valley COG</td>\n",
       "      <td>Santa Clarita</td>\n",
       "      <td>...</td>\n",
       "      <td>Santa Clara River Bike Path</td>\n",
       "      <td>None</td>\n",
       "      <td>None</td>\n",
       "      <td>None</td>\n",
       "      <td>McBean Parkway</td>\n",
       "      <td>1000000</td>\n",
       "      <td>0.0</td>\n",
       "      <td>0.0</td>\n",
       "      <td>None</td>\n",
       "      <td>LINESTRING (-118.54072 34.42810, -118.54096 34...</td>\n",
       "    </tr>\n",
       "    <tr>\n",
       "      <th>3</th>\n",
       "      <td>None</td>\n",
       "      <td>2245.0</td>\n",
       "      <td>None</td>\n",
       "      <td>None</td>\n",
       "      <td>0.0</td>\n",
       "      <td>None</td>\n",
       "      <td>None</td>\n",
       "      <td>1.0</td>\n",
       "      <td>San Fernando Valley COG</td>\n",
       "      <td>Santa Clarita</td>\n",
       "      <td>...</td>\n",
       "      <td>Santa Clara River Bike Path</td>\n",
       "      <td>None</td>\n",
       "      <td>None</td>\n",
       "      <td>None</td>\n",
       "      <td>I-5 Fwy</td>\n",
       "      <td>1000000</td>\n",
       "      <td>0.0</td>\n",
       "      <td>0.0</td>\n",
       "      <td>None</td>\n",
       "      <td>LINESTRING (-118.58405 34.42818, -118.58540 34...</td>\n",
       "    </tr>\n",
       "    <tr>\n",
       "      <th>4</th>\n",
       "      <td>None</td>\n",
       "      <td>2246.0</td>\n",
       "      <td>None</td>\n",
       "      <td>None</td>\n",
       "      <td>0.0</td>\n",
       "      <td>None</td>\n",
       "      <td>None</td>\n",
       "      <td>5.0</td>\n",
       "      <td>South Bay Cities</td>\n",
       "      <td>West Athens / Westmont</td>\n",
       "      <td>...</td>\n",
       "      <td>Lohengrin Avenue</td>\n",
       "      <td>None</td>\n",
       "      <td>None</td>\n",
       "      <td>None</td>\n",
       "      <td>Budlong Avenue</td>\n",
       "      <td>300000</td>\n",
       "      <td>0.0</td>\n",
       "      <td>0.0</td>\n",
       "      <td>None</td>\n",
       "      <td>LINESTRING (-118.30903 33.93528, -118.30964 33...</td>\n",
       "    </tr>\n",
       "  </tbody>\n",
       "</table>\n",
       "<p>5 rows × 53 columns</p>\n",
       "</div>"
      ],
      "text/plain": [
       "   acoe  atsproject bl_buffere  \\\n",
       "0  None      2307.0         No   \n",
       "1  None      2308.0         No   \n",
       "2  None      2244.0       None   \n",
       "3  None      2245.0       None   \n",
       "4  None      2246.0       None   \n",
       "\n",
       "                                          bl_comment  bl_width bmp_segmen  \\\n",
       "0  The bike lane width varies along Colima Rd; ar...       5.0       None   \n",
       "1  The bike lane width varies along Colima Rd; ar...       5.0       None   \n",
       "2                                               None       0.0       None   \n",
       "3                                               None       0.0       None   \n",
       "4                                               None       0.0       None   \n",
       "\n",
       "   city  class                      cog               community  ...  \\\n",
       "0  None    2.0                     None                    None  ...   \n",
       "1  None    2.0                     None                    None  ...   \n",
       "2  None    1.0  San Fernando Valley COG           Santa Clarita  ...   \n",
       "3  None    1.0  San Fernando Valley COG           Santa Clarita  ...   \n",
       "4  None    5.0         South Bay Cities  West Athens / Westmont  ...   \n",
       "\n",
       "                        street  swmd_con_1  swmd_con_2 swmd_conta  \\\n",
       "0                    Colima Rd        None        None       None   \n",
       "1                    Colima Rd        None        None       None   \n",
       "2  Santa Clara River Bike Path        None        None       None   \n",
       "3  Santa Clara River Bike Path        None        None       None   \n",
       "4             Lohengrin Avenue        None        None       None   \n",
       "\n",
       "               to  updated_un w_buffer  w_parking zip_code  \\\n",
       "0     Stimson Ave        None      0.0        0.0    90631   \n",
       "1     Larkvane Rd        None      0.0        0.0     None   \n",
       "2  McBean Parkway     1000000      0.0        0.0     None   \n",
       "3         I-5 Fwy     1000000      0.0        0.0     None   \n",
       "4  Budlong Avenue      300000      0.0        0.0     None   \n",
       "\n",
       "                                            geometry  \n",
       "0  LINESTRING (-117.95958 33.98285, -117.96038 33...  \n",
       "1  LINESTRING (-117.94532 33.99008, -117.94516 33...  \n",
       "2  LINESTRING (-118.54072 34.42810, -118.54096 34...  \n",
       "3  LINESTRING (-118.58405 34.42818, -118.58540 34...  \n",
       "4  LINESTRING (-118.30903 33.93528, -118.30964 33...  \n",
       "\n",
       "[5 rows x 53 columns]"
      ]
     },
     "execution_count": 11,
     "metadata": {},
     "output_type": "execute_result"
    }
   ],
   "source": [
    "#Pulling up the first 5 rows of my data to see what the data looks like. \n",
    "lacbikeways.head()"
   ]
  },
  {
   "cell_type": "code",
   "execution_count": 12,
   "id": "52b90606-b2bc-43f9-a149-5a5d8bcdf152",
   "metadata": {},
   "outputs": [
    {
     "data": {
      "text/html": [
       "<div>\n",
       "<style scoped>\n",
       "    .dataframe tbody tr th:only-of-type {\n",
       "        vertical-align: middle;\n",
       "    }\n",
       "\n",
       "    .dataframe tbody tr th {\n",
       "        vertical-align: top;\n",
       "    }\n",
       "\n",
       "    .dataframe thead th {\n",
       "        text-align: right;\n",
       "    }\n",
       "</style>\n",
       "<table border=\"1\" class=\"dataframe\">\n",
       "  <thead>\n",
       "    <tr style=\"text-align: right;\">\n",
       "      <th></th>\n",
       "      <th>acoe</th>\n",
       "      <th>atsproject</th>\n",
       "      <th>bl_buffere</th>\n",
       "      <th>bl_comment</th>\n",
       "      <th>bl_width</th>\n",
       "      <th>bmp_segmen</th>\n",
       "      <th>city</th>\n",
       "      <th>class</th>\n",
       "      <th>cog</th>\n",
       "      <th>community</th>\n",
       "      <th>...</th>\n",
       "      <th>street</th>\n",
       "      <th>swmd_con_1</th>\n",
       "      <th>swmd_con_2</th>\n",
       "      <th>swmd_conta</th>\n",
       "      <th>to</th>\n",
       "      <th>updated_un</th>\n",
       "      <th>w_buffer</th>\n",
       "      <th>w_parking</th>\n",
       "      <th>zip_code</th>\n",
       "      <th>geometry</th>\n",
       "    </tr>\n",
       "  </thead>\n",
       "  <tbody>\n",
       "    <tr>\n",
       "      <th>864</th>\n",
       "      <td>None</td>\n",
       "      <td>0.0</td>\n",
       "      <td>None</td>\n",
       "      <td>None</td>\n",
       "      <td>0.0</td>\n",
       "      <td>None</td>\n",
       "      <td>None</td>\n",
       "      <td>4.0</td>\n",
       "      <td>None</td>\n",
       "      <td>None</td>\n",
       "      <td>...</td>\n",
       "      <td>Rosemead Blvd</td>\n",
       "      <td>None</td>\n",
       "      <td>None</td>\n",
       "      <td>None</td>\n",
       "      <td>Durfee Rd/ San Gabriel Blvd</td>\n",
       "      <td>None</td>\n",
       "      <td>0.0</td>\n",
       "      <td>0.0</td>\n",
       "      <td>None</td>\n",
       "      <td>LINESTRING (-118.06429 34.03740, -118.06434 34...</td>\n",
       "    </tr>\n",
       "    <tr>\n",
       "      <th>865</th>\n",
       "      <td>None</td>\n",
       "      <td>1884.0</td>\n",
       "      <td>None</td>\n",
       "      <td>None</td>\n",
       "      <td>0.0</td>\n",
       "      <td>None</td>\n",
       "      <td>None</td>\n",
       "      <td>1.0</td>\n",
       "      <td>None</td>\n",
       "      <td>None</td>\n",
       "      <td>...</td>\n",
       "      <td>Rio Hondo Whittier Narrows</td>\n",
       "      <td>None</td>\n",
       "      <td>None</td>\n",
       "      <td>None</td>\n",
       "      <td>None</td>\n",
       "      <td>None</td>\n",
       "      <td>0.0</td>\n",
       "      <td>0.0</td>\n",
       "      <td>None</td>\n",
       "      <td>LINESTRING (-118.07403 34.04114, -118.07403 34...</td>\n",
       "    </tr>\n",
       "    <tr>\n",
       "      <th>866</th>\n",
       "      <td>None</td>\n",
       "      <td>0.0</td>\n",
       "      <td>None</td>\n",
       "      <td>None</td>\n",
       "      <td>0.0</td>\n",
       "      <td>None</td>\n",
       "      <td>None</td>\n",
       "      <td>1.0</td>\n",
       "      <td>None</td>\n",
       "      <td>None</td>\n",
       "      <td>...</td>\n",
       "      <td>Marvin Braude Bike Path</td>\n",
       "      <td>None</td>\n",
       "      <td>None</td>\n",
       "      <td>None</td>\n",
       "      <td>Marine Avenue</td>\n",
       "      <td>None</td>\n",
       "      <td>0.0</td>\n",
       "      <td>0.0</td>\n",
       "      <td>None</td>\n",
       "      <td>LINESTRING (-118.43519 33.92855, -118.43497 33...</td>\n",
       "    </tr>\n",
       "    <tr>\n",
       "      <th>867</th>\n",
       "      <td>None</td>\n",
       "      <td>0.0</td>\n",
       "      <td>None</td>\n",
       "      <td>None</td>\n",
       "      <td>0.0</td>\n",
       "      <td>None</td>\n",
       "      <td>None</td>\n",
       "      <td>3.0</td>\n",
       "      <td>None</td>\n",
       "      <td>None</td>\n",
       "      <td>...</td>\n",
       "      <td>Marine Avenue</td>\n",
       "      <td>None</td>\n",
       "      <td>None</td>\n",
       "      <td>None</td>\n",
       "      <td>Vista Del Mar</td>\n",
       "      <td>None</td>\n",
       "      <td>0.0</td>\n",
       "      <td>0.0</td>\n",
       "      <td>None</td>\n",
       "      <td>LINESTRING (-118.43474 33.92942, -118.43496 33...</td>\n",
       "    </tr>\n",
       "    <tr>\n",
       "      <th>868</th>\n",
       "      <td>None</td>\n",
       "      <td>2296.0</td>\n",
       "      <td>None</td>\n",
       "      <td>None</td>\n",
       "      <td>0.0</td>\n",
       "      <td>None</td>\n",
       "      <td>None</td>\n",
       "      <td>4.0</td>\n",
       "      <td>None</td>\n",
       "      <td>None</td>\n",
       "      <td>...</td>\n",
       "      <td>Marvin Braude Bike Path</td>\n",
       "      <td>None</td>\n",
       "      <td>None</td>\n",
       "      <td>None</td>\n",
       "      <td>None</td>\n",
       "      <td>None</td>\n",
       "      <td>0.0</td>\n",
       "      <td>0.0</td>\n",
       "      <td>None</td>\n",
       "      <td>LINESTRING (-118.45306 33.96249, -118.45379 33...</td>\n",
       "    </tr>\n",
       "  </tbody>\n",
       "</table>\n",
       "<p>5 rows × 53 columns</p>\n",
       "</div>"
      ],
      "text/plain": [
       "     acoe  atsproject bl_buffere bl_comment  bl_width bmp_segmen  city  class  \\\n",
       "864  None         0.0       None       None       0.0       None  None    4.0   \n",
       "865  None      1884.0       None       None       0.0       None  None    1.0   \n",
       "866  None         0.0       None       None       0.0       None  None    1.0   \n",
       "867  None         0.0       None       None       0.0       None  None    3.0   \n",
       "868  None      2296.0       None       None       0.0       None  None    4.0   \n",
       "\n",
       "      cog community  ...                      street  swmd_con_1  swmd_con_2  \\\n",
       "864  None      None  ...               Rosemead Blvd        None        None   \n",
       "865  None      None  ...  Rio Hondo Whittier Narrows        None        None   \n",
       "866  None      None  ...     Marvin Braude Bike Path        None        None   \n",
       "867  None      None  ...               Marine Avenue        None        None   \n",
       "868  None      None  ...     Marvin Braude Bike Path        None        None   \n",
       "\n",
       "    swmd_conta                           to  updated_un w_buffer  w_parking  \\\n",
       "864       None  Durfee Rd/ San Gabriel Blvd        None      0.0        0.0   \n",
       "865       None                         None        None      0.0        0.0   \n",
       "866       None                Marine Avenue        None      0.0        0.0   \n",
       "867       None                Vista Del Mar        None      0.0        0.0   \n",
       "868       None                         None        None      0.0        0.0   \n",
       "\n",
       "    zip_code                                           geometry  \n",
       "864     None  LINESTRING (-118.06429 34.03740, -118.06434 34...  \n",
       "865     None  LINESTRING (-118.07403 34.04114, -118.07403 34...  \n",
       "866     None  LINESTRING (-118.43519 33.92855, -118.43497 33...  \n",
       "867     None  LINESTRING (-118.43474 33.92942, -118.43496 33...  \n",
       "868     None  LINESTRING (-118.45306 33.96249, -118.45379 33...  \n",
       "\n",
       "[5 rows x 53 columns]"
      ]
     },
     "execution_count": 12,
     "metadata": {},
     "output_type": "execute_result"
    }
   ],
   "source": [
    "#Pulling up the last 5 rows of my data. \n",
    "lacbikeways.tail()"
   ]
  },
  {
   "cell_type": "code",
   "execution_count": 13,
   "id": "ea6bebcf-799c-4f9f-b8ef-2e0c3e35884a",
   "metadata": {},
   "outputs": [
    {
     "data": {
      "text/plain": [
       "acoe            object\n",
       "atsproject     float64\n",
       "bl_buffere      object\n",
       "bl_comment      object\n",
       "bl_width       float64\n",
       "bmp_segmen      object\n",
       "city            object\n",
       "class          float64\n",
       "cog             object\n",
       "community       object\n",
       "e_buffer       float64\n",
       "e_parking      float64\n",
       "equip          float64\n",
       "from            object\n",
       "inprojecty      object\n",
       "interim_cl     float64\n",
       "join_id         object\n",
       "length         float64\n",
       "maintain        object\n",
       "n_buffer       float64\n",
       "n_parking      float64\n",
       "osd_cont_1      object\n",
       "osd_contac      object\n",
       "parking         object\n",
       "parking_co      object\n",
       "phase          float64\n",
       "piw_projec      object\n",
       "plan_area      float64\n",
       "planning_a      object\n",
       "priority        object\n",
       "project_cl      object\n",
       "project_na      object\n",
       "regional_b      object\n",
       "rmd_cont_1      object\n",
       "rmd_cont_2      object\n",
       "rmd_cont_3      object\n",
       "rmd_contac      object\n",
       "s_buffer       float64\n",
       "s_parking      float64\n",
       "sd              object\n",
       "shape_len      float64\n",
       "source_rat      object\n",
       "status          object\n",
       "street          object\n",
       "swmd_con_1      object\n",
       "swmd_con_2      object\n",
       "swmd_conta      object\n",
       "to              object\n",
       "updated_un      object\n",
       "w_buffer       float64\n",
       "w_parking      float64\n",
       "zip_code        object\n",
       "geometry      geometry\n",
       "dtype: object"
      ]
     },
     "execution_count": 13,
     "metadata": {},
     "output_type": "execute_result"
    }
   ],
   "source": [
    "#Getting an idea for what type each column is in my data. \n",
    "lacbikeways.dtypes"
   ]
  },
  {
   "cell_type": "code",
   "execution_count": 36,
   "id": "9d6544a8-8b96-467b-90f4-de8c7f65bc30",
   "metadata": {},
   "outputs": [
    {
     "name": "stdout",
     "output_type": "stream",
     "text": [
      "<class 'geopandas.geodataframe.GeoDataFrame'>\n",
      "RangeIndex: 869 entries, 0 to 868\n",
      "Data columns (total 53 columns):\n",
      " #   Column      Non-Null Count  Dtype   \n",
      "---  ------      --------------  -----   \n",
      " 0   acoe        2 non-null      object  \n",
      " 1   atsproject  869 non-null    float64 \n",
      " 2   bl_buffere  61 non-null     object  \n",
      " 3   bl_comment  48 non-null     object  \n",
      " 4   bl_width    869 non-null    float64 \n",
      " 5   bmp_segmen  12 non-null     object  \n",
      " 6   city        22 non-null     object  \n",
      " 7   class       869 non-null    float64 \n",
      " 8   cog         454 non-null    object  \n",
      " 9   community   310 non-null    object  \n",
      " 10  e_buffer    869 non-null    float64 \n",
      " 11  e_parking   869 non-null    float64 \n",
      " 12  equip       869 non-null    float64 \n",
      " 13  from        586 non-null    object  \n",
      " 14  inprojecty  20 non-null     object  \n",
      " 15  interim_cl  869 non-null    float64 \n",
      " 16  join_id     868 non-null    object  \n",
      " 17  length      869 non-null    float64 \n",
      " 18  maintain    447 non-null    object  \n",
      " 19  n_buffer    869 non-null    float64 \n",
      " 20  n_parking   869 non-null    float64 \n",
      " 21  osd_cont_1  0 non-null      object  \n",
      " 22  osd_contac  0 non-null      object  \n",
      " 23  parking     68 non-null     object  \n",
      " 24  parking_co  63 non-null     object  \n",
      " 25  phase       869 non-null    float64 \n",
      " 26  piw_projec  166 non-null    object  \n",
      " 27  plan_area   869 non-null    float64 \n",
      " 28  planning_a  527 non-null    object  \n",
      " 29  priority    59 non-null     object  \n",
      " 30  project_cl  11 non-null     object  \n",
      " 31  project_na  167 non-null    object  \n",
      " 32  regional_b  147 non-null    object  \n",
      " 33  rmd_cont_1  286 non-null    object  \n",
      " 34  rmd_cont_2  286 non-null    object  \n",
      " 35  rmd_cont_3  286 non-null    object  \n",
      " 36  rmd_contac  286 non-null    object  \n",
      " 37  s_buffer    869 non-null    float64 \n",
      " 38  s_parking   869 non-null    float64 \n",
      " 39  sd          846 non-null    object  \n",
      " 40  shape_len   869 non-null    float64 \n",
      " 41  source_rat  195 non-null    object  \n",
      " 42  status      868 non-null    object  \n",
      " 43  street      868 non-null    object  \n",
      " 44  swmd_con_1  0 non-null      object  \n",
      " 45  swmd_con_2  0 non-null      object  \n",
      " 46  swmd_conta  0 non-null      object  \n",
      " 47  to          576 non-null    object  \n",
      " 48  updated_un  444 non-null    object  \n",
      " 49  w_buffer    869 non-null    float64 \n",
      " 50  w_parking   869 non-null    float64 \n",
      " 51  zip_code    64 non-null     object  \n",
      " 52  geometry    868 non-null    geometry\n",
      "dtypes: float64(17), geometry(1), object(35)\n",
      "memory usage: 359.9+ KB\n"
     ]
    }
   ],
   "source": [
    "#This command tells us how each dataline in the file is classified (as an object, float, etc.) \n",
    "lacbikeways.info()"
   ]
  },
  {
   "cell_type": "code",
   "execution_count": 22,
   "id": "43af4a62-a90e-4f3a-99ee-5bb3da1b9bfa",
   "metadata": {},
   "outputs": [
    {
     "data": {
      "text/plain": [
       "(869, 53)"
      ]
     },
     "execution_count": 22,
     "metadata": {},
     "output_type": "execute_result"
    }
   ],
   "source": [
    "# how many rows and columns\n",
    "lacbikeways.shape\n",
    "#this command gives us the dimensions of the file"
   ]
  },
  {
   "cell_type": "code",
   "execution_count": 68,
   "id": "d9e3ed23-8058-4535-9a5d-573247714235",
   "metadata": {},
   "outputs": [
    {
     "data": {
      "text/plain": [
       "['acoe',\n",
       " 'atsproject',\n",
       " 'bl_buffere',\n",
       " 'bl_comment',\n",
       " 'bl_width',\n",
       " 'bmp_segmen',\n",
       " 'city',\n",
       " 'class',\n",
       " 'cog',\n",
       " 'community',\n",
       " 'e_buffer',\n",
       " 'e_parking',\n",
       " 'equip',\n",
       " 'from',\n",
       " 'inprojecty',\n",
       " 'interim_cl',\n",
       " 'join_id',\n",
       " 'length',\n",
       " 'maintain',\n",
       " 'n_buffer',\n",
       " 'n_parking',\n",
       " 'osd_cont_1',\n",
       " 'osd_contac',\n",
       " 'parking',\n",
       " 'parking_co',\n",
       " 'phase',\n",
       " 'piw_projec',\n",
       " 'plan_area',\n",
       " 'planning_a',\n",
       " 'priority',\n",
       " 'project_cl',\n",
       " 'project_na',\n",
       " 'regional_b',\n",
       " 'rmd_cont_1',\n",
       " 'rmd_cont_2',\n",
       " 'rmd_cont_3',\n",
       " 'rmd_contac',\n",
       " 's_buffer',\n",
       " 's_parking',\n",
       " 'sd',\n",
       " 'shape_len',\n",
       " 'source_rat',\n",
       " 'status',\n",
       " 'street',\n",
       " 'swmd_con_1',\n",
       " 'swmd_con_2',\n",
       " 'swmd_conta',\n",
       " 'to',\n",
       " 'updated_un',\n",
       " 'w_buffer',\n",
       " 'w_parking',\n",
       " 'zip_code',\n",
       " 'geometry']"
      ]
     },
     "execution_count": 68,
     "metadata": {},
     "output_type": "execute_result"
    }
   ],
   "source": [
    "#what are the columns?\n",
    "lacbikeways.columns.to_list()"
   ]
  },
  {
   "cell_type": "markdown",
   "id": "ec2adb1c-58d8-4a4e-8f4c-bad0afc6cbf7",
   "metadata": {},
   "source": [
    "This command converts the columns to a list"
   ]
  },
  {
   "cell_type": "code",
   "execution_count": 27,
   "id": "1b2e6562-afae-4449-9762-6455cccfc679",
   "metadata": {},
   "outputs": [
    {
     "data": {
      "text/plain": [
       "448    San Gabriel River Bike Path\n",
       "Name: street, dtype: object"
      ]
     },
     "execution_count": 27,
     "metadata": {},
     "output_type": "execute_result"
    }
   ],
   "source": [
    "# Extracting a single random street column\n",
    "lacbikeways.street.sample(1)"
   ]
  },
  {
   "cell_type": "code",
   "execution_count": 35,
   "id": "b60dd990-38f8-449a-a695-cd81794c16b7",
   "metadata": {},
   "outputs": [
    {
     "data": {
      "text/plain": [
       "San Gabriel River Bike Path        62\n",
       "Los Angeles River Bicycle Trail    61\n",
       "Marvin Braude Bike Path            56\n",
       "Lower Rio Hondo                    30\n",
       "Coyote Creek Bike Path             18\n",
       "                                   ..\n",
       "170th Street East Bikeway           1\n",
       "Parker Road/Ridge Route Road        1\n",
       "Plum Canyon Road                    1\n",
       "111th Street                        1\n",
       "Marvin Braude Gap Closure           1\n",
       "Name: street, Length: 408, dtype: int64"
      ]
     },
     "execution_count": 35,
     "metadata": {},
     "output_type": "execute_result"
    }
   ],
   "source": [
    "#This tells us how many 'units'/iterations of bike lanes there are per street\n",
    "lacbikeways['street'].value_counts()"
   ]
  },
  {
   "cell_type": "code",
   "execution_count": 38,
   "id": "f5d1cf68-1ac9-4a27-9c3c-c11162fd9b90",
   "metadata": {},
   "outputs": [],
   "source": [
    "#saving street count as a variable\n",
    "street_count=lacbikeways['street'].value_counts()"
   ]
  },
  {
   "cell_type": "code",
   "execution_count": 39,
   "id": "79feb3dd-b01d-45df-a1ad-ec4f4a959b44",
   "metadata": {},
   "outputs": [
    {
     "data": {
      "text/plain": [
       "pandas.core.series.Series"
      ]
     },
     "execution_count": 39,
     "metadata": {},
     "output_type": "execute_result"
    }
   ],
   "source": [
    "type(street_count)"
   ]
  },
  {
   "cell_type": "code",
   "execution_count": 45,
   "id": "7323ddfc-dc85-42cd-93e8-7eda858c69b1",
   "metadata": {},
   "outputs": [
    {
     "data": {
      "text/plain": [
       "<AxesSubplot:>"
      ]
     },
     "execution_count": 45,
     "metadata": {},
     "output_type": "execute_result"
    },
    {
     "data": {
      "image/png": "[encoded data removed]",
      "text/plain": [
       "<Figure size 432x288 with 1 Axes>"
      ]
     },
     "metadata": {
      "needs_background": "light"
     },
     "output_type": "display_data"
    }
   ],
   "source": [
    "#Playing around with my data to see how it might show up here. Not very helpful, looks like I will need to clean things up a bit. \n",
    "street_count.plot()"
   ]
  },
  {
   "cell_type": "code",
   "execution_count": 47,
   "id": "a9cff28c-b372-4c42-b0f9-2d39fbd4e5dc",
   "metadata": {},
   "outputs": [
    {
     "name": "stdout",
     "output_type": "stream",
     "text": [
      "<class 'geopandas.geodataframe.GeoDataFrame'>\n",
      "RangeIndex: 869 entries, 0 to 868\n",
      "Data columns (total 53 columns):\n",
      " #   Column      Non-Null Count  Dtype   \n",
      "---  ------      --------------  -----   \n",
      " 0   acoe        2 non-null      object  \n",
      " 1   atsproject  869 non-null    float64 \n",
      " 2   bl_buffere  61 non-null     object  \n",
      " 3   bl_comment  48 non-null     object  \n",
      " 4   bl_width    869 non-null    float64 \n",
      " 5   bmp_segmen  12 non-null     object  \n",
      " 6   city        22 non-null     object  \n",
      " 7   class       869 non-null    float64 \n",
      " 8   cog         454 non-null    object  \n",
      " 9   community   310 non-null    object  \n",
      " 10  e_buffer    869 non-null    float64 \n",
      " 11  e_parking   869 non-null    float64 \n",
      " 12  equip       869 non-null    float64 \n",
      " 13  from        586 non-null    object  \n",
      " 14  inprojecty  20 non-null     object  \n",
      " 15  interim_cl  869 non-null    float64 \n",
      " 16  join_id     868 non-null    object  \n",
      " 17  length      869 non-null    float64 \n",
      " 18  maintain    447 non-null    object  \n",
      " 19  n_buffer    869 non-null    float64 \n",
      " 20  n_parking   869 non-null    float64 \n",
      " 21  osd_cont_1  0 non-null      object  \n",
      " 22  osd_contac  0 non-null      object  \n",
      " 23  parking     68 non-null     object  \n",
      " 24  parking_co  63 non-null     object  \n",
      " 25  phase       869 non-null    float64 \n",
      " 26  piw_projec  166 non-null    object  \n",
      " 27  plan_area   869 non-null    float64 \n",
      " 28  planning_a  527 non-null    object  \n",
      " 29  priority    59 non-null     object  \n",
      " 30  project_cl  11 non-null     object  \n",
      " 31  project_na  167 non-null    object  \n",
      " 32  regional_b  147 non-null    object  \n",
      " 33  rmd_cont_1  286 non-null    object  \n",
      " 34  rmd_cont_2  286 non-null    object  \n",
      " 35  rmd_cont_3  286 non-null    object  \n",
      " 36  rmd_contac  286 non-null    object  \n",
      " 37  s_buffer    869 non-null    float64 \n",
      " 38  s_parking   869 non-null    float64 \n",
      " 39  sd          846 non-null    object  \n",
      " 40  shape_len   869 non-null    float64 \n",
      " 41  source_rat  195 non-null    object  \n",
      " 42  status      868 non-null    object  \n",
      " 43  street      868 non-null    object  \n",
      " 44  swmd_con_1  0 non-null      object  \n",
      " 45  swmd_con_2  0 non-null      object  \n",
      " 46  swmd_conta  0 non-null      object  \n",
      " 47  to          576 non-null    object  \n",
      " 48  updated_un  444 non-null    object  \n",
      " 49  w_buffer    869 non-null    float64 \n",
      " 50  w_parking   869 non-null    float64 \n",
      " 51  zip_code    64 non-null     object  \n",
      " 52  geometry    868 non-null    geometry\n",
      "dtypes: float64(17), geometry(1), object(35)\n",
      "memory usage: 359.9+ KB\n"
     ]
    }
   ],
   "source": [
    "lacbikeways.info()"
   ]
  },
  {
   "cell_type": "code",
   "execution_count": 49,
   "id": "e3cd9c5b-ec6f-4f70-be39-ddd777a7cf0c",
   "metadata": {},
   "outputs": [
    {
     "data": {
      "text/html": [
       "<div>\n",
       "<style scoped>\n",
       "    .dataframe tbody tr th:only-of-type {\n",
       "        vertical-align: middle;\n",
       "    }\n",
       "\n",
       "    .dataframe tbody tr th {\n",
       "        vertical-align: top;\n",
       "    }\n",
       "\n",
       "    .dataframe thead th {\n",
       "        text-align: right;\n",
       "    }\n",
       "</style>\n",
       "<table border=\"1\" class=\"dataframe\">\n",
       "  <thead>\n",
       "    <tr style=\"text-align: right;\">\n",
       "      <th></th>\n",
       "      <th>street</th>\n",
       "      <th>to</th>\n",
       "      <th>class</th>\n",
       "      <th>geometry</th>\n",
       "    </tr>\n",
       "  </thead>\n",
       "  <tbody>\n",
       "    <tr>\n",
       "      <th>0</th>\n",
       "      <td>Colima Rd</td>\n",
       "      <td>Stimson Ave</td>\n",
       "      <td>2.0</td>\n",
       "      <td>LINESTRING (-117.95958 33.98285, -117.96038 33...</td>\n",
       "    </tr>\n",
       "    <tr>\n",
       "      <th>1</th>\n",
       "      <td>Colima Rd</td>\n",
       "      <td>Larkvane Rd</td>\n",
       "      <td>2.0</td>\n",
       "      <td>LINESTRING (-117.94532 33.99008, -117.94516 33...</td>\n",
       "    </tr>\n",
       "    <tr>\n",
       "      <th>2</th>\n",
       "      <td>Santa Clara River Bike Path</td>\n",
       "      <td>McBean Parkway</td>\n",
       "      <td>1.0</td>\n",
       "      <td>LINESTRING (-118.54072 34.42810, -118.54096 34...</td>\n",
       "    </tr>\n",
       "    <tr>\n",
       "      <th>3</th>\n",
       "      <td>Santa Clara River Bike Path</td>\n",
       "      <td>I-5 Fwy</td>\n",
       "      <td>1.0</td>\n",
       "      <td>LINESTRING (-118.58405 34.42818, -118.58540 34...</td>\n",
       "    </tr>\n",
       "    <tr>\n",
       "      <th>4</th>\n",
       "      <td>Lohengrin Avenue</td>\n",
       "      <td>Budlong Avenue</td>\n",
       "      <td>5.0</td>\n",
       "      <td>LINESTRING (-118.30903 33.93528, -118.30964 33...</td>\n",
       "    </tr>\n",
       "    <tr>\n",
       "      <th>...</th>\n",
       "      <td>...</td>\n",
       "      <td>...</td>\n",
       "      <td>...</td>\n",
       "      <td>...</td>\n",
       "    </tr>\n",
       "    <tr>\n",
       "      <th>864</th>\n",
       "      <td>Rosemead Blvd</td>\n",
       "      <td>Durfee Rd/ San Gabriel Blvd</td>\n",
       "      <td>4.0</td>\n",
       "      <td>LINESTRING (-118.06429 34.03740, -118.06434 34...</td>\n",
       "    </tr>\n",
       "    <tr>\n",
       "      <th>865</th>\n",
       "      <td>Rio Hondo Whittier Narrows</td>\n",
       "      <td>None</td>\n",
       "      <td>1.0</td>\n",
       "      <td>LINESTRING (-118.07403 34.04114, -118.07403 34...</td>\n",
       "    </tr>\n",
       "    <tr>\n",
       "      <th>866</th>\n",
       "      <td>Marvin Braude Bike Path</td>\n",
       "      <td>Marine Avenue</td>\n",
       "      <td>1.0</td>\n",
       "      <td>LINESTRING (-118.43519 33.92855, -118.43497 33...</td>\n",
       "    </tr>\n",
       "    <tr>\n",
       "      <th>867</th>\n",
       "      <td>Marine Avenue</td>\n",
       "      <td>Vista Del Mar</td>\n",
       "      <td>3.0</td>\n",
       "      <td>LINESTRING (-118.43474 33.92942, -118.43496 33...</td>\n",
       "    </tr>\n",
       "    <tr>\n",
       "      <th>868</th>\n",
       "      <td>Marvin Braude Bike Path</td>\n",
       "      <td>None</td>\n",
       "      <td>4.0</td>\n",
       "      <td>LINESTRING (-118.45306 33.96249, -118.45379 33...</td>\n",
       "    </tr>\n",
       "  </tbody>\n",
       "</table>\n",
       "<p>869 rows × 4 columns</p>\n",
       "</div>"
      ],
      "text/plain": [
       "                          street                           to  class  \\\n",
       "0                      Colima Rd                  Stimson Ave    2.0   \n",
       "1                      Colima Rd                  Larkvane Rd    2.0   \n",
       "2    Santa Clara River Bike Path               McBean Parkway    1.0   \n",
       "3    Santa Clara River Bike Path                      I-5 Fwy    1.0   \n",
       "4               Lohengrin Avenue               Budlong Avenue    5.0   \n",
       "..                           ...                          ...    ...   \n",
       "864                Rosemead Blvd  Durfee Rd/ San Gabriel Blvd    4.0   \n",
       "865   Rio Hondo Whittier Narrows                         None    1.0   \n",
       "866      Marvin Braude Bike Path                Marine Avenue    1.0   \n",
       "867                Marine Avenue                Vista Del Mar    3.0   \n",
       "868      Marvin Braude Bike Path                         None    4.0   \n",
       "\n",
       "                                              geometry  \n",
       "0    LINESTRING (-117.95958 33.98285, -117.96038 33...  \n",
       "1    LINESTRING (-117.94532 33.99008, -117.94516 33...  \n",
       "2    LINESTRING (-118.54072 34.42810, -118.54096 34...  \n",
       "3    LINESTRING (-118.58405 34.42818, -118.58540 34...  \n",
       "4    LINESTRING (-118.30903 33.93528, -118.30964 33...  \n",
       "..                                                 ...  \n",
       "864  LINESTRING (-118.06429 34.03740, -118.06434 34...  \n",
       "865  LINESTRING (-118.07403 34.04114, -118.07403 34...  \n",
       "866  LINESTRING (-118.43519 33.92855, -118.43497 33...  \n",
       "867  LINESTRING (-118.43474 33.92942, -118.43496 33...  \n",
       "868  LINESTRING (-118.45306 33.96249, -118.45379 33...  \n",
       "\n",
       "[869 rows x 4 columns]"
      ]
     },
     "execution_count": 49,
     "metadata": {},
     "output_type": "execute_result"
    }
   ],
   "source": [
    "#Isolating the parts of my data that make the most sense for mapping. \n",
    "lacbikeways[['street', 'to', 'class', 'geometry']]"
   ]
  },
  {
   "cell_type": "code",
   "execution_count": 52,
   "id": "12fb60e1-ef5f-4def-9a00-648d206e7d19",
   "metadata": {},
   "outputs": [],
   "source": [
    "#Labelling this desired set so I can bring it up with more ease later on. \n",
    "lacbikeways_desired=lacbikeways[['street', 'to', 'class', 'geometry']]"
   ]
  },
  {
   "cell_type": "code",
   "execution_count": 53,
   "id": "920f77c7-81cb-4eab-8ccd-bf61dc76d8db",
   "metadata": {},
   "outputs": [
    {
     "data": {
      "text/plain": [
       "<AxesSubplot:>"
      ]
     },
     "execution_count": 53,
     "metadata": {},
     "output_type": "execute_result"
    },
    {
     "data": {
      "image/png": "[encoded data removed]",
      "text/plain": [
       "<Figure size 432x288 with 1 Axes>"
      ]
     },
     "metadata": {
      "needs_background": "light"
     },
     "output_type": "display_data"
    }
   ],
   "source": [
    "#plotting the entire dataset. \n",
    "lacbikeways_desired.plot()"
   ]
  },
  {
   "cell_type": "code",
   "execution_count": 54,
   "id": "a0fe9b3d-4e8a-4b61-af22-80bfab0f74d5",
   "metadata": {},
   "outputs": [],
   "source": [
    "#Making a copy of the data so I can trim it down even more. \n",
    "lacbikeways_trimmed=lacbikeways_desired.copy()"
   ]
  },
  {
   "cell_type": "code",
   "execution_count": 64,
   "id": "250b3fa3-6b52-4fed-9dee-73f463910f74",
   "metadata": {},
   "outputs": [],
   "source": [
    "#Isolating the Santa Clara River Bike Path and only plotting that. \n",
    "scrbp=lacbikeways_trimmed[lacbikeways_trimmed.street == 'Santa Clara River Bike Path']"
   ]
  },
  {
   "cell_type": "code",
   "execution_count": 65,
   "id": "e663ff36-cd0f-430c-a1d7-4d219e6ec5e4",
   "metadata": {},
   "outputs": [
    {
     "data": {
      "text/plain": [
       "<AxesSubplot:>"
      ]
     },
     "execution_count": 65,
     "metadata": {},
     "output_type": "execute_result"
    },
    {
     "data": {
      "image/png": "[encoded data removed]",
      "text/plain": [
       "<Figure size 432x288 with 1 Axes>"
      ]
     },
     "metadata": {
      "needs_background": "light"
     },
     "output_type": "display_data"
    }
   ],
   "source": [
    "scrbp.plot()"
   ]
  }
 ],
 "metadata": {
  "kernelspec": {
   "display_name": "Python 3 (ipykernel)",
   "language": "python",
   "name": "python3"
  },
  "language_info": {
   "codemirror_mode": {
    "name": "ipython",
    "version": 3
   },
   "file_extension": ".py",
   "mimetype": "text/x-python",
   "name": "python",
   "nbconvert_exporter": "python",
   "pygments_lexer": "ipython3",
   "version": "3.9.6"
  }
 },
 "nbformat": 4,
 "nbformat_minor": 5
}
